{
 "cells": [
  {
   "cell_type": "code",
   "execution_count": 1,
   "metadata": {},
   "outputs": [],
   "source": [
    "from web3 import Web3\n",
    "from eth_account import Account\n",
    "from bit import wif_to_key, PrivateKeyTestnet, PrivateKey, Key\n",
    "from bit.network import NetworkAPI\n",
    "import os\n",
    "import json\n",
    "import subprocess\n",
    "from constants import *\n",
    "from getpass import getpass"
   ]
  },
  {
   "cell_type": "code",
   "execution_count": 2,
   "metadata": {},
   "outputs": [],
   "source": [
    "# Instantiate Web3\n",
    "w3 = Web3(Web3.HTTPProvider(\"http://127.0.0.1:8100\"))"
   ]
  },
  {
   "cell_type": "code",
   "execution_count": 3,
   "metadata": {},
   "outputs": [],
   "source": [
    "# Import mnemonic\n",
    "mnemonic = os.getenv('MNEMONIC')"
   ]
  },
  {
   "cell_type": "code",
   "execution_count": 4,
   "metadata": {},
   "outputs": [],
   "source": [
    "# Use the subprocess library to call the php file script from Python\n",
    "def derive_wallets(mnemonic, coin, numderive):\n",
    "    \n",
    "    command = f'./derive -g --mnemonic=\"{mnemonic}\" --cols=address,index,path,privkey,pubkey,pubkeyhash,xprv,xpub --coin=\"{coin}\" --numderive=\"{numderive}\" --format=json'\n",
    "    p = subprocess.Popen(command, stdout=subprocess.PIPE, shell=True)\n",
    "    # Read data from standard output and err\n",
    "    (output, err) = p.communicate()\n",
    "    # This allows to wait for an output\n",
    "    p_status = p.wait()\n",
    "    keys = json.loads(output)\n",
    "    \n",
    "    return keys"
   ]
  },
  {
   "cell_type": "code",
   "execution_count": 5,
   "metadata": {},
   "outputs": [],
   "source": [
    "# --coin and --numderive parameters \n",
    "coins = [ETH, BTC, BTCTEST]\n",
    "numderive = 3\n",
    "\n",
    "# Dict comprhenesion to iterate through coins\n",
    "derivedWallets = {coin: derive_wallets(mnemonic, coin, numderive) for coin in coins}"
   ]
  },
  {
   "cell_type": "code",
   "execution_count": 6,
   "metadata": {},
   "outputs": [],
   "source": [
    "# Fetch private keys\n",
    "# derivedWallets[COIN][INDEX]['path, privkey, pubkey']\n",
    "\n",
    "BTCprivkey = derivedWallets[BTCTEST][0]['privkey'] # pre-funded account\n",
    "BTCprivkeyRecipient = derivedWallets[BTCTEST][1]['privkey'] # recipient account\n",
    "\n",
    "ETHprivkey = derivedWallets[ETH][0]['privkey'] # pre-funded account\n",
    "ETHprivkeyRecipient = derivedWallets[ETH][1]['privkey'] # recipient account "
   ]
  },
  {
   "cell_type": "code",
   "execution_count": 7,
   "metadata": {},
   "outputs": [],
   "source": [
    "# Convert the privkey string in a child key to an account object that bit or web3.py can use to transact\n",
    "def privKeyToAccount(coin, privkey):\n",
    "    \n",
    "    if coin == BTCTEST:\n",
    "        return PrivateKeyTestnet(privkey) \n",
    "    \n",
    "    if coin == ETH:\n",
    "        return Account.privateKeyToAccount(privkey)"
   ]
  },
  {
   "cell_type": "code",
   "execution_count": 8,
   "metadata": {},
   "outputs": [],
   "source": [
    "# Create the raw, unsigned transaction that contains all metadata needed to transact\n",
    "def createTx(coin, account, recipient, amount):\n",
    "    \n",
    "    if coin == BTCTEST:\n",
    "        return PrivateKeyTestnet.prepare_transaction(account.address, [(recipient, amount, BTC)])\n",
    "    \n",
    "    if coin == ETH:\n",
    "        gasEstimate = w3.eth.estimateGas(\n",
    "            {\"from\": account.address, \"to\": recipient, \"value\": amount})\n",
    "        return {\n",
    "            \"to\": recipient,\n",
    "            \"from\": account.address,\n",
    "            \"value\": amount,\n",
    "            \"gasPrice\": w3.eth.gasPrice,\n",
    "            \"gas\": gasEstimate,\n",
    "            \"nonce\": w3.eth.getTransactionCount(account.address)\n",
    "        }"
   ]
  },
  {
   "cell_type": "code",
   "execution_count": 16,
   "metadata": {},
   "outputs": [],
   "source": [
    "# This will call create_tx, sign the transaction, then send it to the designated network\n",
    "\n",
    "def sendTx(coin, account, recipient, amount):\n",
    "\n",
    "    Tx = createTx(coin, account, recipient, amount)\n",
    "    \n",
    "    if coin == BTCTEST:\n",
    "        \n",
    "        TxSigned = account.sign_transaction(Tx)\n",
    "        NetworkAPI.broadcast_tx_testnet(TxSigned)       \n",
    "        \n",
    "        return TxSigned\n",
    "    \n",
    "    elif coin == ETH:\n",
    "        \n",
    "        TxSigned = account.signTransaction(Tx)\n",
    "        result = w3.eth.sendRawTransaction(TxSigned.rawTransaction)\n",
    "        \n",
    "        return result.hex()"
   ]
  },
  {
   "cell_type": "code",
   "execution_count": 10,
   "metadata": {},
   "outputs": [],
   "source": [
    "# Create accounts variables\n",
    "BTCaccount = privKeyToAccount(BTCTEST, BTCprivkey) # pre-funded account\n",
    "ETHaccount = privKeyToAccount(ETH, ETHprivkey) # pre-funded account"
   ]
  },
  {
   "cell_type": "code",
   "execution_count": 11,
   "metadata": {},
   "outputs": [],
   "source": [
    "# Create recipient accounts variables \n",
    "BTCrecipient = privKeyToAccount(BTCTEST, BTCprivkeyRecipient)"
   ]
  },
  {
   "cell_type": "code",
   "execution_count": 12,
   "metadata": {},
   "outputs": [
    {
     "data": {
      "text/plain": [
       "<PrivateKeyTestnet: mhfp7WUAS43Eb8Yd2pTnyeS4sTgdjWZ6u7>"
      ]
     },
     "execution_count": 12,
     "metadata": {},
     "output_type": "execute_result"
    }
   ],
   "source": [
    "BTCrecipient"
   ]
  },
  {
   "cell_type": "code",
   "execution_count": 13,
   "metadata": {},
   "outputs": [
    {
     "data": {
      "text/plain": [
       "'{\"unspents\":[{\"amount\":1473949,\"confirmations\":124,\"script\":\"76a914a3db38f04501fffb64429a56d5c3b27eb86d66d688ac\",\"txid\":\"0079f684b0870ca24042bf4a094f3f990d4fff333cf05d27fb9b2f310a57f5b3\",\"txindex\":1,\"type\":\"p2pkh\",\"vsize\":148,\"segwit\":false}],\"outputs\":[[\"mhfp7WUAS43Eb8Yd2pTnyeS4sTgdjWZ6u7\",10000],[\"mvTM4AQDawMbjG4gHRirMe2nXaf42odWQQ\",1436377]]}'"
      ]
     },
     "execution_count": 13,
     "metadata": {},
     "output_type": "execute_result"
    }
   ],
   "source": [
    "# Create TX in BTC Testnet\n",
    "createTx(BTCTEST, BTCaccount, 'mhfp7WUAS43Eb8Yd2pTnyeS4sTgdjWZ6u7', .0001)"
   ]
  },
  {
   "cell_type": "code",
   "execution_count": 14,
   "metadata": {},
   "outputs": [
    {
     "data": {
      "text/plain": [
       "'0100000001b3f5570a312f9bfb275df03c33ff4f0d993f4f094abf4240a20c87b084f67900010000006b483045022100de4d8b5c5bbacb7b08fce822c448defc3eb7ddfedf06fb1961af54a98ba427fb022029b041f5658a4ae29280b60fef315620aff7e9693a21b26e63946d2ec03d25de012102d1e24b74942983fab9fc7362cc33ac42a182de514ef164ce2bc758bd95af342dffffffff0210270000000000001976a914179d2a57077f8f2874a33e56d3699570e0bc252488acd9ea1500000000001976a914a3db38f04501fffb64429a56d5c3b27eb86d66d688ac00000000'"
      ]
     },
     "execution_count": 14,
     "metadata": {},
     "output_type": "execute_result"
    }
   ],
   "source": [
    "# Send TX in BTC Testnet\n",
    "sendTx(BTCTEST, BTCaccount, 'mhfp7WUAS43Eb8Yd2pTnyeS4sTgdjWZ6u7', .0001)"
   ]
  },
  {
   "cell_type": "code",
   "execution_count": 13,
   "metadata": {},
   "outputs": [],
   "source": [
    "from web3.middleware import geth_poa_middleware\n",
    "\n",
    "w3.middleware_onion.inject(geth_poa_middleware, layer=0)"
   ]
  },
  {
   "cell_type": "code",
   "execution_count": 14,
   "metadata": {},
   "outputs": [
    {
     "data": {
      "text/plain": [
       "{'address': '0x02dB24FB0db709E3C69B8c56506D480Cb1bbB6d2',\n",
       " 'index': 1,\n",
       " 'path': \"m/44'/60'/0'/0/1\",\n",
       " 'privkey': '0x668ee8dfef8abf5a79b7a775dc5270198306690bc79f0b6e1e75ed9a46b5bb08',\n",
       " 'pubkey': '03db7d064f9318e7104969836da78b3a319ab6a7b281eb7fc20ff11c745e2f9975',\n",
       " 'pubkeyhash': '2aa03b1744aac538a108f2d58bb3958ecae5165e',\n",
       " 'xprv': 'xprvA43i49fb7fYLfHSCpNKbNFpxyZ26nfb7HVJTNQZb1NCpq9ooCiRHNbaPamSt1qjGUEFSD9AdgyPaEoAXSGAQPhv6M737tNwS1K6edMx2Qjr',\n",
       " 'xpub': 'xpub6H34TfCUx36dsmWfvPrbjPmhXarbC8JxeiE4AnyCZhjohx8wkFjXvPtsS5JtTU9yoaJuFeVeHYjgxf6LKQbFqQW6CLiLX1WvfZzUf94Kh8V'}"
      ]
     },
     "execution_count": 14,
     "metadata": {},
     "output_type": "execute_result"
    }
   ],
   "source": [
    "derivedWallets[ETH][1]"
   ]
  },
  {
   "cell_type": "code",
   "execution_count": 17,
   "metadata": {},
   "outputs": [
    {
     "data": {
      "text/plain": [
       "'0xe781cac96ff16507cd84440fbd559f1553b8927c44d1ad1d170b7ad5ae19a040'"
      ]
     },
     "execution_count": 17,
     "metadata": {},
     "output_type": "execute_result"
    }
   ],
   "source": [
    "sendTx(ETH, ETHaccount, '0x02dB24FB0db709E3C69B8c56506D480Cb1bbB6d2', 500000000)"
   ]
  },
  {
   "cell_type": "code",
   "execution_count": null,
   "metadata": {},
   "outputs": [],
   "source": []
  }
 ],
 "metadata": {
  "kernelspec": {
   "display_name": "Python 3 (Ethereum)",
   "language": "python",
   "name": "ethereum"
  },
  "language_info": {
   "codemirror_mode": {
    "name": "ipython",
    "version": 3
   },
   "file_extension": ".py",
   "mimetype": "text/x-python",
   "name": "python",
   "nbconvert_exporter": "python",
   "pygments_lexer": "ipython3",
   "version": "3.7.7"
  }
 },
 "nbformat": 4,
 "nbformat_minor": 4
}
